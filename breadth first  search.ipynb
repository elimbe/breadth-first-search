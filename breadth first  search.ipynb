{
 "cells": [
  {
   "cell_type": "code",
   "execution_count": 3,
   "id": "429ea7c3",
   "metadata": {},
   "outputs": [
    {
     "data": {
      "text/plain": [
       "(5, 7)"
      ]
     },
     "execution_count": 3,
     "metadata": {},
     "output_type": "execute_result"
    }
   ],
   "source": [
    "num_nodes=5\n",
    "edges=[(0,1),(0,4),(1,2),(2,3),(4,3),(4,1),(1,3)]\n",
    "num_nodes, len(edges)\n"
   ]
  },
  {
   "cell_type": "markdown",
   "id": "15b1a685",
   "metadata": {},
   "source": [
    "adjacency list\n"
   ]
  },
  {
   "cell_type": "code",
   "execution_count": 28,
   "id": "7903aeb1",
   "metadata": {},
   "outputs": [],
   "source": [
    "class Graph:\n",
    "    def __init__(self, num_nodes, edges):\n",
    "        self.num_nodes=num_nodes\n",
    "        self.data=[[]for _ in range(num_nodes)]\n",
    "        for n1,n2 in edges:\n",
    "            #insert in the right list\n",
    "            self.data[n1].append(n2)\n",
    "            self.data[n2].append(n1)\n",
    "    def __repr__(self):\n",
    "        return \"\\n\".join([\"{}:{}\".format(n,neighbours) for n, neighbours in enumerate(graph1.data)])\n",
    "    def __str__(self):\n",
    "        return self.__repr__()\n",
    "    "
   ]
  },
  {
   "cell_type": "code",
   "execution_count": 27,
   "id": "e6315e2c",
   "metadata": {},
   "outputs": [
    {
     "data": {
      "text/plain": [
       "'0:[1, 4]\\n1:[0, 2, 4, 3]\\n2:[1, 3]\\n3:[2, 4, 1]\\n4:[0, 3, 1]'"
      ]
     },
     "execution_count": 27,
     "metadata": {},
     "output_type": "execute_result"
    }
   ],
   "source": [
    "\"\\n\".join([\"{}:{}\".format(n,neighbours) for n, neighbours in enumerate(graph1.data)])\n"
   ]
  },
  {
   "cell_type": "code",
   "execution_count": 31,
   "id": "9c700942",
   "metadata": {},
   "outputs": [
    {
     "data": {
      "text/plain": [
       "0:[1, 4]\n",
       "1:[0, 2, 4, 3]\n",
       "2:[1, 3]\n",
       "3:[2, 4, 1]\n",
       "4:[0, 3, 1]"
      ]
     },
     "execution_count": 31,
     "metadata": {},
     "output_type": "execute_result"
    }
   ],
   "source": [
    "graph1=Graph(num_nodes,edges)\n",
    "graph1"
   ]
  },
  {
   "cell_type": "code",
   "execution_count": null,
   "id": "574a65f4",
   "metadata": {},
   "outputs": [],
   "source": [
    "write a function to add an edge to agraph represented as an adjacency list\n",
    "write a function to remove an edge from a graph represented as an adjacency list.\n",
    "represent a graph as an adjacency matrix "
   ]
  },
  {
   "cell_type": "code",
   "execution_count": null,
   "id": "9a754a7e",
   "metadata": {},
   "outputs": [],
   "source": [
    "Graph traversal\n",
    "breadth first search\n",
    "procedure of breadth_first_search(G, root)\n",
    "1. let q be queue\n",
    "2. label root as discovered\n",
    "3. q.enqueue(root)\n",
    "4. while q is not empty do\n",
    " v:= q.dequeue()\n",
    "           if v is the goal then \n",
    "            return v\n",
    "    for all edges from v to w in g.adjacentEdge(v) do if w is not labelled as discovered then\n",
    "    lebel w as discovered\n",
    "    q.enqueue(w)\n",
    " "
   ]
  },
  {
   "cell_type": "code",
   "execution_count": 37,
   "id": "7ea3387c",
   "metadata": {},
   "outputs": [],
   "source": [
    "def bfs(graph, root):\n",
    "    queue=[]\n",
    "    discovered=[False]*len(graph.data)\n",
    "    distance=[None]*len(graph.data)\n",
    "    parent=[None]*len(graph.data)\n",
    "    discovered[root]=True\n",
    "    queue.append(root)\n",
    "    distance[root]=0\n",
    "    idx=0\n",
    "    while idx<len(queue):\n",
    "        #dequeue operation\n",
    "        current=queue[idx]\n",
    "        idx+=1\n",
    "        #check all the edges of the current\n",
    "        for node in graph.data[current]:\n",
    "            if not discovered[node]:\n",
    "                distance[node]=1+distance[current]\n",
    "                parent[node]=current\n",
    "                discovered[node]=True\n",
    "                queue.append(node)\n",
    "    return queue, distance,parent"
   ]
  },
  {
   "cell_type": "code",
   "execution_count": 32,
   "id": "5c0d386c",
   "metadata": {},
   "outputs": [
    {
     "data": {
      "text/plain": [
       "0:[1, 4]\n",
       "1:[0, 2, 4, 3]\n",
       "2:[1, 3]\n",
       "3:[2, 4, 1]\n",
       "4:[0, 3, 1]"
      ]
     },
     "execution_count": 32,
     "metadata": {},
     "output_type": "execute_result"
    }
   ],
   "source": [
    "graph1"
   ]
  },
  {
   "cell_type": "code",
   "execution_count": 38,
   "id": "b4b72e5f",
   "metadata": {},
   "outputs": [
    {
     "data": {
      "text/plain": [
       "([3, 2, 4, 1, 0], [2, 1, 1, 0, 1], [4, 3, 3, None, 3])"
      ]
     },
     "execution_count": 38,
     "metadata": {},
     "output_type": "execute_result"
    }
   ],
   "source": [
    "bfs(graph1, 3)"
   ]
  },
  {
   "cell_type": "code",
   "execution_count": null,
   "id": "40a2b01a",
   "metadata": {},
   "outputs": [],
   "source": []
  }
 ],
 "metadata": {
  "kernelspec": {
   "display_name": "Python 3 (ipykernel)",
   "language": "python",
   "name": "python3"
  },
  "language_info": {
   "codemirror_mode": {
    "name": "ipython",
    "version": 3
   },
   "file_extension": ".py",
   "mimetype": "text/x-python",
   "name": "python",
   "nbconvert_exporter": "python",
   "pygments_lexer": "ipython3",
   "version": "3.9.7"
  }
 },
 "nbformat": 4,
 "nbformat_minor": 5
}
